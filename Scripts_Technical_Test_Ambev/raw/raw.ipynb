{
 "cells": [
  {
   "cell_type": "code",
   "execution_count": 0,
   "metadata": {
    "application/vnd.databricks.v1+cell": {
     "cellMetadata": {
      "byteLimit": 2048000,
      "rowLimit": 10000
     },
     "inputWidgets": {},
     "nuid": "2deb8f81-e0f9-42ca-862e-61260009d557",
     "showTitle": true,
     "tableResultSettingsMap": {},
     "title": "Import Variables"
    }
   },
   "outputs": [],
   "source": [
    "from pyspark.sql.functions import col"
   ]
  },
  {
   "cell_type": "code",
   "execution_count": 0,
   "metadata": {
    "application/vnd.databricks.v1+cell": {
     "cellMetadata": {
      "byteLimit": 2048000,
      "rowLimit": 10000
     },
     "inputWidgets": {},
     "nuid": "3f869226-6e8a-4591-83d9-97a7fd2af96d",
     "showTitle": true,
     "tableResultSettingsMap": {},
     "title": "Reading beverage_channel_group File"
    }
   },
   "outputs": [],
   "source": [
    "df = spark.read.csv(\n",
    "    \"/Volumes/lakehouse/raw/files/abi_bus_case1_beverage_channel_group_20210726.csv\",\n",
    "    header=True,\n",
    "    inferSchema=True,\n",
    "    sep=\",\",\n",
    "    encoding=\"UTF-8\"\n",
    ")"
   ]
  },
  {
   "cell_type": "code",
   "execution_count": 0,
   "metadata": {
    "application/vnd.databricks.v1+cell": {
     "cellMetadata": {
      "byteLimit": 2048000,
      "rowLimit": 10000
     },
     "inputWidgets": {},
     "nuid": "5a0e7285-b843-4c44-bc18-efb0d314d2b3",
     "showTitle": true,
     "tableResultSettingsMap": {},
     "title": "Creating Table ambev_channel_group"
    }
   },
   "outputs": [],
   "source": [
    "df.write.format(\"delta\").mode(\"overwrite\").saveAsTable(\"lakehouse.raw.ambev_channel_group\")"
   ]
  },
  {
   "cell_type": "code",
   "execution_count": 0,
   "metadata": {
    "application/vnd.databricks.v1+cell": {
     "cellMetadata": {
      "byteLimit": 2048000,
      "rowLimit": 10000
     },
     "inputWidgets": {},
     "nuid": "97bb59d1-41b6-4c35-ab3d-64a1402f2f32",
     "showTitle": true,
     "tableResultSettingsMap": {},
     "title": "Reading beverage_sales"
    }
   },
   "outputs": [],
   "source": [
    "df = spark.read.csv(\n",
    "    \"/Volumes/lakehouse/raw/files/abi_bus_case1_beverage_sales_20210726.csv\",\n",
    "    header=True,\n",
    "    inferSchema=True,\n",
    "    sep=\"\\t\",\n",
    "    encoding=\"UTF-16\"\n",
    ")\n",
    "\n",
    "df = df.select([col(c).alias(c.replace(\" \", \"_\").replace(\"$\", \"DOLLAR\")) for c in df.columns])"
   ]
  },
  {
   "cell_type": "code",
   "execution_count": 0,
   "metadata": {
    "application/vnd.databricks.v1+cell": {
     "cellMetadata": {
      "byteLimit": 2048000,
      "rowLimit": 10000
     },
     "inputWidgets": {},
     "nuid": "84cae0af-6a34-4284-9c21-52f0103e8a00",
     "showTitle": true,
     "tableResultSettingsMap": {},
     "title": "Creating Table ambev_beverage_sales"
    }
   },
   "outputs": [],
   "source": [
    "df.write.format(\"delta\").mode(\"overwrite\").saveAsTable(\"lakehouse.raw.ambev_beverage_sales\")"
   ]
  }
 ],
 "metadata": {
  "application/vnd.databricks.v1+notebook": {
   "computePreferences": null,
   "dashboards": [],
   "environmentMetadata": {
    "base_environment": "",
    "environment_version": "4"
   },
   "inputWidgetPreferences": null,
   "language": "python",
   "notebookMetadata": {
    "pythonIndentUnit": 4
   },
   "notebookName": "raw",
   "widgets": {}
  },
  "language_info": {
   "name": "python"
  }
 },
 "nbformat": 4,
 "nbformat_minor": 0
}
