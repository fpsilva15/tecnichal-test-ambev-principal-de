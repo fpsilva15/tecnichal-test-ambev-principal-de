{
 "cells": [
  {
   "cell_type": "code",
   "execution_count": 0,
   "metadata": {
    "application/vnd.databricks.v1+cell": {
     "cellMetadata": {},
     "inputWidgets": {},
     "nuid": "d3d18632-79f3-4f53-a507-4c82d1ad8158",
     "showTitle": true,
     "tableResultSettingsMap": {},
     "title": "Databricks SDK for Pipeline"
    }
   },
   "outputs": [],
   "source": [
    "# Upgrade Databricks SDK to the latest version and restart Python to see updated packages\n",
    "%pip install --upgrade databricks-sdk==0.49.0\n",
    "%restart_python\n",
    "\n",
    "from databricks.sdk.service.jobs import JobSettings as Job\n",
    "\n",
    "\n",
    "job_lakehouse_felipe = Job.from_dict(\n",
    "    {\n",
    "        \"name\": \"job_lakehouse_felipe\",\n",
    "        \"trigger\": {\n",
    "            \"pause_status\": \"UNPAUSED\",\n",
    "            \"file_arrival\": {\n",
    "                \"url\": \"/Volumes/lakehouse/raw/files/\",\n",
    "            },\n",
    "        },\n",
    "        \"tasks\": [\n",
    "            {\n",
    "                \"task_key\": \"raw\",\n",
    "                \"notebook_task\": {\n",
    "                    \"notebook_path\": \"/Workspace/Users/fpsilva15@gmail.com/tecnichal-test-ambev-principal-de/Scripts_Technical_Test_Ambev/raw/raw\",\n",
    "                    \"source\": \"WORKSPACE\",\n",
    "                },\n",
    "            },\n",
    "            {\n",
    "                \"task_key\": \"trusted\",\n",
    "                \"depends_on\": [\n",
    "                    {\n",
    "                        \"task_key\": \"raw\",\n",
    "                    },\n",
    "                ],\n",
    "                \"notebook_task\": {\n",
    "                    \"notebook_path\": \"/Workspace/Users/fpsilva15@gmail.com/tecnichal-test-ambev-principal-de/Scripts_Technical_Test_Ambev/trusted/trusted\",\n",
    "                    \"source\": \"WORKSPACE\",\n",
    "                },\n",
    "            },\n",
    "            {\n",
    "                \"task_key\": \"refined\",\n",
    "                \"depends_on\": [\n",
    "                    {\n",
    "                        \"task_key\": \"trusted\",\n",
    "                    },\n",
    "                ],\n",
    "                \"notebook_task\": {\n",
    "                    \"notebook_path\": \"/Workspace/Users/fpsilva15@gmail.com/tecnichal-test-ambev-principal-de/Scripts_Technical_Test_Ambev/refined/refined\",\n",
    "                    \"source\": \"WORKSPACE\",\n",
    "                },\n",
    "            },\n",
    "        ],\n",
    "        \"queue\": {\n",
    "            \"enabled\": True,\n",
    "        },\n",
    "        \"performance_target\": \"PERFORMANCE_OPTIMIZED\",\n",
    "    }\n",
    ")\n",
    "\n",
    "from databricks.sdk import WorkspaceClient\n",
    "\n",
    "w = WorkspaceClient()\n",
    "w.jobs.reset(new_settings=job_lakehouse_felipe, job_id=108617645330603)\n",
    "# or create a new job using: w.jobs.create(**job_lakehouse_felipe.as_shallow_dict())\n"
   ]
  }
 ],
 "metadata": {
  "application/vnd.databricks.v1+notebook": {
   "computePreferences": null,
   "dashboards": [],
   "environmentMetadata": {
    "base_environment": "",
    "environment_version": "4"
   },
   "inputWidgetPreferences": null,
   "language": "python",
   "notebookMetadata": {
    "pythonIndentUnit": 4
   },
   "notebookName": "pipeline_code",
   "widgets": {}
  },
  "language_info": {
   "name": "python"
  }
 },
 "nbformat": 4,
 "nbformat_minor": 0
}
